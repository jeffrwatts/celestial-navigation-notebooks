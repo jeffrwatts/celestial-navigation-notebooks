{
 "cells": [
  {
   "cell_type": "code",
   "execution_count": 1,
   "id": "903d1156",
   "metadata": {},
   "outputs": [],
   "source": [
    "from math import *\n",
    "import numpy as np\n",
    "import pandas as pd\n",
    "from datetime import timedelta, datetime\n",
    "import json\n",
    "\n",
    "import skyfield\n",
    "from skyfield.api import load\n",
    "from skyfield.api import N, W, S, E, wgs84\n",
    "from skyfield.api import Star\n",
    "from skyfield.data import hipparcos\n",
    "from skyfield.almanac import find_discrete, risings_and_settings\n",
    "from skyfield.magnitudelib import planetary_magnitude\n",
    "from skyfield import almanac"
   ]
  },
  {
   "cell_type": "code",
   "execution_count": 2,
   "id": "d101f9d3",
   "metadata": {},
   "outputs": [],
   "source": [
    "ts = load.timescale()\n",
    "eph = load('de421.bsp')\n",
    "\n",
    "sun = eph['SUN']\n",
    "earth = eph['EARTH']\n",
    "moon = eph['MOON']\n",
    "\n",
    "with load.open(hipparcos.URL) as f:\n",
    "    stars_df = hipparcos.load_dataframe(f)\n",
    "\n",
    "planet_dictionary = {\"Venus\":\"VENUS\", \"Mars\":\"MARS\", \"Jupiter\":\"JUPITER BARYCENTER\", \"Saturn\":\"SATURN BARYCENTER\"}\n",
    "    \n",
    "star_dictionary = {\"Alpheratz\":677, \"Ankaa\":2081, \"Schedar\":3179, \"Diphda\":3419, \"Achernar\":7588, \"Hamal\":9884, \"Polaris\":11767, \"Acamar\":13847, \"Menkar\":14135, \"Mirfak\":15863, \"Aldebaran\":21421, \"Rigel\":24436, \"Capella\":24608, \"Bellatrix\":25336, \"Elnath\":25428, \"Alnilam\":26311, \"Betelgeuse\":27989, \"Canopus\":30438, \"Sirius\":32349, \"Adhara\":33579, \"Procyon\":37279, \"Pollux\":37826, \"Avior\":41037, \"Suhail\":44816, \"Miaplacidus\":45238, \"Alphard\":46390, \"Regulus\":49669, \"Dubhe\":54061, \"Denebola\":57632, \"Gienah\":59803, \"Acrux\":60718, \"Gacrux\":61084, \"Alioth\":62956, \"Spica\":65474, \"Alkaid\":67301, \"Hadar\":68702, \"Menkent\":68933, \"Arcturus\":69673, \"Rigil Kent.\":71683, \"Kochab\":72607, \"Zuben'ubi\":72622, \"Alphecca\":76267, \"Antares\":80763, \"Atria\":82273, \"Sabik\":84012, \"Shaula\":85927, \"Rasalhague\":86032, \"Eltanin\":87833, \"Kaus Aust.\":90185, \"Vega\":91262, \"Nunki\":92855, \"Altair\":97649, \"Peacock\":100751, \"Deneb\":102098, \"Enif\":107315, \"Al Na'ir\":109268, \"Fomalhaut\":113368, \"Scheat\":113881, \"Markab\":113963}\n",
    "\n",
    "\n"
   ]
  },
  {
   "cell_type": "code",
   "execution_count": 3,
   "id": "23756e4f",
   "metadata": {},
   "outputs": [],
   "source": [
    "class CelestialObject():\n",
    "    def __init__(self, order, name, objtype, magnitude, ra, dec, distance, riseset=None):\n",
    "        self.order = order\n",
    "        self.name = name\n",
    "        self.objtype = objtype\n",
    "        self.magnitude = magnitude\n",
    "        self.ra = ra\n",
    "        self.dec = dec\n",
    "        self.distance = distance\n",
    "        self.riseset = riseset\n",
    "    def reprJSON(self):\n",
    "        return dict(name=self.name, \n",
    "                    objtype=self.objtype, \n",
    "                    magnitude=self.magnitude, \n",
    "                    ra=self.ra, \n",
    "                    distance=self.distance, \n",
    "                    riseset=self.riseset)\n",
    "        \n",
    "class RiseSetTime():\n",
    "    def __init__(self, utc, riseset):\n",
    "        self.utc = utc\n",
    "        self.riseset = riseset\n",
    "    def reprJSON(self):\n",
    "        return dict(utc=self.utc, riseset=self.riseset)\n",
    "    \n",
    "class CelestialObjectEncoder(json.JSONEncoder):\n",
    "    def default(self, obj):\n",
    "        if hasattr(obj,'reprJSON'):\n",
    "            return obj.reprJSON()\n",
    "        else:\n",
    "            return json.JSONEncoder.default(self, obj)  "
   ]
  },
  {
   "cell_type": "code",
   "execution_count": 4,
   "id": "e9adc144",
   "metadata": {},
   "outputs": [],
   "source": [
    "def getCelestialObjectData(lat, lon, timestamp, days):\n",
    "    objects = []\n",
    "    order = 1\n",
    "    \n",
    "    dt = datetime.fromtimestamp(timestamp)\n",
    "    date = ts.ut1(dt.year, dt.month, dt.day, dt.hour, dt.minute, dt.second)\n",
    "    \n",
    "    location = wgs84.latlon(lat, lon)\n",
    "    earth_at = (earth + location).at(date)\n",
    "    \n",
    "    # Sun\n",
    "    radec = earth_at.observe(sun).apparent().radec()\n",
    "    rise_set = getRiseSetTimes(location, sun, date, days)\n",
    "    objects.append(CelestialObject(order, \"Sun\", \"Sun\", 0.0, radec[0].hours, radec[1].degrees, radec[2].au, rise_set))\n",
    "    order+=1\n",
    "    \n",
    "    # Moon\n",
    "    radec = earth_at.observe(moon).apparent().radec()\n",
    "    rise_set = getRiseSetTimes(location, moon, date, days)\n",
    "    objects.append(CelestialObject(order, \"Moon\", \"Moon\", 0.0, radec[0].hours, radec[1].degrees, radec[2].au, rise_set))\n",
    "    order+=1\n",
    "    \n",
    "    # Planets\n",
    "    for planet_name in planet_dictionary:\n",
    "        planet = eph[planet_dictionary[planet_name]]\n",
    "        astrometric = earth_at.observe(planet)\n",
    "        magnitude = planetary_magnitude(astrometric)\n",
    "        radec = astrometric.apparent().radec()\n",
    "        rise_set = getRiseSetTimes(location, planet, date, days)\n",
    "        objects.append(CelestialObject(order, planet_name, \"Planet\", float(magnitude), radec[0].hours, radec[1].degrees, radec[2].au, rise_set))\n",
    "        order+=1\n",
    "        \n",
    "    # Stars\n",
    "    for star_name in star_dictionary:\n",
    "        # Load dataframe separately to get magnitude\n",
    "        star_df = stars_df.loc[star_dictionary[star_name]]\n",
    "        star = Star.from_dataframe(star_df)\n",
    "        radec = earth_at.observe(star).apparent().radec()\n",
    "        rise_set = getRiseSetTimes(location, star, date, days)\n",
    "        objects.append(CelestialObject(order, star_name, \"Star\", star_df.magnitude, radec[0].hours, radec[1].degrees, radec[2].au, rise_set))\n",
    "        order+=1\n",
    "        \n",
    "    return json.dumps([ob.__dict__ for ob in objects], cls=CelestialObjectEncoder)\n",
    "\n",
    "def getGeographicalPosition(object_name, timestamp):\n",
    "    dt = datetime.fromtimestamp(timestamp)\n",
    "    display = dt.strftime('%Y/%m/%d %H:%M:%S')\n",
    "    t = ts.ut1(dt.year, dt.month, dt.day, dt.hour, dt.minute, dt.second)\n",
    "    celestial_object = getCelestialObject(object_name)\n",
    "    \n",
    "    apparent = earth.at(t).observe(celestial_object).apparent()\n",
    "    radec = apparent.radec()\n",
    "    ra = radec[0].hours\n",
    "    dec = radec[1].degrees\n",
    "    distance = apparent.distance().km\n",
    "    \n",
    "    gha = (t.gast-ra)*15\n",
    "    \n",
    "    if (gha < 0):\n",
    "        gha += 360\n",
    "        \n",
    "        \n",
    "    response = {\n",
    "        \"body\" : object_name,\n",
    "        \"utc\" : display,\n",
    "        \"GHA\" : gha,\n",
    "        \"ra\" : ra,\n",
    "        \"dec\" : dec,\n",
    "        \"distance\": distance,\n",
    "    }\n",
    "    return (json.dumps(response))\n",
    "\n",
    "def getRiseSetTimes(location, celestial_obj, rise_start, rise_days):\n",
    "    rise_set_times = []\n",
    "    \n",
    "    rise_end = rise_start + timedelta(days = rise_days)\n",
    "    \n",
    "    rs = risings_and_settings(eph, celestial_obj, location)\n",
    "    \n",
    "    for time, riseset in zip(*find_discrete(rise_start, rise_end, rs)):\n",
    "        rise_set_times.append(RiseSetTime(time.utc_datetime().timestamp(), int(riseset)))  \n",
    "        \n",
    "    return rise_set_times\n",
    "\n",
    "def getCelestialObject(object_name):\n",
    "    celestial_obj = None\n",
    "    if (object_name == \"Sun\"):\n",
    "        celestial_obj = eph['Sun']\n",
    "    elif (object_name == \"Moon\"):\n",
    "        celestial_obj = eph['Moon']\n",
    "    elif (object_name == \"Venus\"):\n",
    "        celestial_obj = eph['Venus']    \n",
    "    elif (object_name == \"Mars\"):\n",
    "        celestial_obj = eph['Mars']\n",
    "    elif (object_name == \"Jupiter\"):\n",
    "        celestial_obj = eph['JUPITER BARYCENTER']\n",
    "    elif (object_name == \"Saturn\"):\n",
    "        celestial_obj = eph['SATURN BARYCENTER']\n",
    "    else:\n",
    "        celestial_obj = Star.from_dataframe(stars_df.loc[star_dictionary[object_name]])\n",
    "    return celestial_obj\n",
    "\n"
   ]
  },
  {
   "cell_type": "code",
   "execution_count": 5,
   "id": "0d89ec73",
   "metadata": {},
   "outputs": [
    {
     "data": {
      "text/plain": [
       "'{\"body\": \"Saturn\", \"utc\": \"2022/12/11 17:58:03\", \"GHA\": 26.832820716018322, \"ra\": 21.54049209791065, \"dec\": -15.90884664188489, \"distance\": 1538020903.7257433}'"
      ]
     },
     "execution_count": 5,
     "metadata": {},
     "output_type": "execute_result"
    }
   ],
   "source": [
    "utc_ts = datetime.utcnow().timestamp()\n",
    "getGeographicalPosition(\"Saturn\", utc_ts)"
   ]
  },
  {
   "cell_type": "code",
   "execution_count": 6,
   "id": "5cdd759c",
   "metadata": {},
   "outputs": [
    {
     "data": {
      "text/plain": [
       "'[{\"order\": 1, \"name\": \"Sun\", \"objtype\": \"Sun\", \"magnitude\": 0.0, \"ra\": 17.227632412343173, \"dec\": -23.00970714073415, \"distance\": 0.9846611063167112, \"riseset\": [{\"utc\": 1670816697.157624, \"riseset\": 0}, {\"utc\": 1670863812.027075, \"riseset\": 1}, {\"utc\": 1670903117.83822, \"riseset\": 0}, {\"utc\": 1670950247.081643, \"riseset\": 1}, {\"utc\": 1670989539.6309, \"riseset\": 0}, {\"utc\": 1671036681.689823, \"riseset\": 1}]}, {\"order\": 2, \"name\": \"Moon\", \"objtype\": \"Moon\", \"magnitude\": 0.0, \"ra\": 8.063899414053411, \"dec\": 25.17880826314322, \"distance\": 0.0026954812967845175, \"riseset\": [{\"utc\": 1670788306.105342, \"riseset\": 0}, {\"utc\": 1670828489.794887, \"riseset\": 1}, {\"utc\": 1670877245.356586, \"riseset\": 0}, {\"utc\": 1670918037.067657, \"riseset\": 1}, {\"utc\": 1670965957.893349, \"riseset\": 0}, {\"utc\": 1671007515.104915, \"riseset\": 1}]}, {\"order\": 3, \"name\": \"Venus\", \"objtype\": \"Planet\", \"magnitude\": -3.916375635189974, \"ra\": 18.12233520551485, \"dec\": -24.21410569120362, \"distance\": 1.6585679661772559, \"riseset\": [{\"utc\": 1670819832.145407, \"riseset\": 0}, {\"utc\": 1670867214.433203, \"riseset\": 1}, {\"utc\": 1670906325.36369, \"riseset\": 0}, {\"utc\": 1670953708.017809, \"riseset\": 1}, {\"utc\": 1670992819.855996, \"riseset\": 0}, {\"utc\": 1671040200.253277, \"riseset\": 1}]}, {\"order\": 4, \"name\": \"Mars\", \"objtype\": \"Planet\", \"magnitude\": -1.858274024762288, \"ra\": 4.854341708494561, \"dec\": 24.93033250685998, \"distance\": 0.5558542391456124, \"riseset\": [{\"utc\": 1670814698.591679, \"riseset\": 1}, {\"utc\": 1670862641.844889, \"riseset\": 0}, {\"utc\": 1670900767.00603, \"riseset\": 1}, {\"utc\": 1670948708.536377, \"riseset\": 0}, {\"utc\": 1670986837.152176, \"riseset\": 1}, {\"utc\": 1671034776.720997, \"riseset\": 0}]}, {\"order\": 5, \"name\": \"Jupiter\", \"objtype\": \"Planet\", \"magnitude\": -2.494495562194324, \"ra\": 23.976831837726372, \"dec\": -1.6503376070243279, \"distance\": 4.690036614057919, \"riseset\": [{\"utc\": 1670799657.820796, \"riseset\": 1}, {\"utc\": 1670842775.301027, \"riseset\": 0}, {\"utc\": 1670885832.686351, \"riseset\": 1}, {\"utc\": 1670928955.549131, \"riseset\": 0}, {\"utc\": 1670972008.146671, \"riseset\": 1}, {\"utc\": 1671015136.603265, \"riseset\": 0}]}, {\"order\": 6, \"name\": \"Saturn\", \"objtype\": \"Planet\", \"magnitude\": 0.8189372728182711, \"ra\": 21.540500384456244, \"dec\": -15.908867074408963, \"distance\": 10.281063173516237, \"riseset\": [{\"utc\": 1670792172.117766, \"riseset\": 1}, {\"utc\": 1670832778.775687, \"riseset\": 0}, {\"utc\": 1670878352.218818, \"riseset\": 1}, {\"utc\": 1670918963.761403, \"riseset\": 0}, {\"utc\": 1670964532.573661, \"riseset\": 1}, {\"utc\": 1671005149.072405, \"riseset\": 0}]}, {\"order\": 7, \"name\": \"Alpheratz\", \"objtype\": \"Star\", \"magnitude\": 2.07, \"ra\": 0.13994101246969842, \"dec\": 29.092486238246625, \"distance\": 6138833.155889809, \"riseset\": [{\"utc\": 1670797320.064577, \"riseset\": 1}, {\"utc\": 1670846271.916138, \"riseset\": 0}, {\"utc\": 1670883484.136989, \"riseset\": 1}, {\"utc\": 1670932435.988068, \"riseset\": 0}, {\"utc\": 1670969648.209723, \"riseset\": 1}, {\"utc\": 1671018600.059273, \"riseset\": 0}]}, {\"order\": 8, \"name\": \"Ankaa\", \"objtype\": \"Star\", \"magnitude\": 2.4, \"ra\": 0.43833832491660335, \"dec\": -42.311659979503055, \"distance\": 4894751.046290346, \"riseset\": [{\"utc\": 1670805652.062916, \"riseset\": 1}, {\"utc\": 1670840075.987243, \"riseset\": 0}, {\"utc\": 1670891816.138346, \"riseset\": 1}, {\"utc\": 1670926240.055109, \"riseset\": 0}, {\"utc\": 1670977980.2145, \"riseset\": 1}, {\"utc\": 1671012404.122572, \"riseset\": 0}]}, {\"order\": 9, \"name\": \"Schedar\", \"objtype\": \"Star\", \"magnitude\": 2.24, \"ra\": 0.6753839549427347, \"dec\": 56.541878201957694, \"distance\": 14454435.816578876, \"riseset\": [{\"utc\": 1670793971.346269, \"riseset\": 1}, {\"utc\": 1670853479.618263, \"riseset\": 0}, {\"utc\": 1670880135.393576, \"riseset\": 1}, {\"utc\": 1670939643.686048, \"riseset\": 0}, {\"utc\": 1670966299.442009, \"riseset\": 1}, {\"utc\": 1671025807.751419, \"riseset\": 0}]}, {\"order\": 10, \"name\": \"Diphda\", \"objtype\": \"Star\", \"magnitude\": 2.04, \"ra\": 0.7267298912316503, \"dec\": -17.987678725499848, \"distance\": 6059482.946505085, \"riseset\": [{\"utc\": 1670803793.854005, \"riseset\": 1}, {\"utc\": 1670844007.129066, \"riseset\": 0}, {\"utc\": 1670889957.933297, \"riseset\": 1}, {\"utc\": 1670930171.204013, \"riseset\": 0}, {\"utc\": 1670976122.013193, \"riseset\": 1}, {\"utc\": 1671016335.27884, \"riseset\": 0}]}, {\"order\": 11, \"name\": \"Achernar\", \"objtype\": \"Star\", \"magnitude\": 0.45, \"ra\": 1.629022551909615, \"dec\": -57.24083270281829, \"distance\": 9094568.217686418, \"riseset\": [{\"utc\": 1670813321.103556, \"riseset\": 1}, {\"utc\": 1670840924.338425, \"riseset\": 0}, {\"utc\": 1670899485.182285, \"riseset\": 1}, {\"utc\": 1670927088.390117, \"riseset\": 0}, {\"utc\": 1670985649.262623, \"riseset\": 1}, {\"utc\": 1671013252.441327, \"riseset\": 0}]}, {\"order\": 12, \"name\": \"Hamal\", \"objtype\": \"Star\", \"magnitude\": 2.01, \"ra\": 2.1199154536772014, \"dec\": 23.463604166180442, \"distance\": 4168649.371335488, \"riseset\": [{\"utc\": 1670805058.471728, \"riseset\": 1}, {\"utc\": 1670852763.182277, \"riseset\": 0}, {\"utc\": 1670891222.551061, \"riseset\": 1}, {\"utc\": 1670938927.264144, \"riseset\": 0}, {\"utc\": 1670977386.630433, \"riseset\": 1}, {\"utc\": 1671025091.345327, \"riseset\": 0}]}, {\"order\": 13, \"name\": \"Polaris\", \"objtype\": \"Star\", \"magnitude\": 1.97, \"ra\": 2.553498111385376, \"dec\": 89.26796394987066, \"distance\": 27283704.13677484, \"riseset\": []}, {\"order\": 14, \"name\": \"Acamar\", \"objtype\": \"Star\", \"magnitude\": 2.88, \"ra\": 2.9713919770609865, \"dec\": -40.306419828757235, \"distance\": 10201028.673876716, \"riseset\": [{\"utc\": 1670814424.332052, \"riseset\": 1}, {\"utc\": 1670849462.033697, \"riseset\": 0}, {\"utc\": 1670900588.420437, \"riseset\": 1}, {\"utc\": 1670935626.105707, \"riseset\": 0}, {\"utc\": 1670986752.509586, \"riseset\": 1}, {\"utc\": 1671021790.177596, \"riseset\": 0}]}, {\"order\": 15, \"name\": \"Menkar\", \"objtype\": \"Star\", \"magnitude\": 2.54, \"ra\": 3.038297883332751, \"dec\": 4.089877734389952, \"distance\": 13918002.340926666, \"riseset\": [{\"utc\": 1670810158.162072, \"riseset\": 1}, {\"utc\": 1670854247.243711, \"riseset\": 0}, {\"utc\": 1670896322.249048, \"riseset\": 1}, {\"utc\": 1670940411.328837, \"riseset\": 0}, {\"utc\": 1670982486.336105, \"riseset\": 1}, {\"utc\": 1671026575.41348, \"riseset\": 0}]}, {\"order\": 16, \"name\": \"Mirfak\", \"objtype\": \"Star\", \"magnitude\": 1.79, \"ra\": 3.405908423765523, \"dec\": 49.86348577450846, \"distance\": 37434628.27363084, \"riseset\": [{\"utc\": 1670805723.626881, \"riseset\": 1}, {\"utc\": 1670861373.764662, \"riseset\": 0}, {\"utc\": 1670891887.698167, \"riseset\": 1}, {\"utc\": 1670947537.862461, \"riseset\": 0}, {\"utc\": 1670978051.768447, \"riseset\": 1}, {\"utc\": 1671033701.958289, \"riseset\": 0}]}, {\"order\": 17, \"name\": \"Aldebaran\", \"objtype\": \"Star\", \"magnitude\": 0.87, \"ra\": 4.59909432248752, \"dec\": 16.50883379071234, \"distance\": 4117882.9721157863, \"riseset\": [{\"utc\": 1670814657.745028, \"riseset\": 1}, {\"utc\": 1670860968.3253, \"riseset\": 0}, {\"utc\": 1670900821.839891, \"riseset\": 1}, {\"utc\": 1670947132.421007, \"riseset\": 0}, {\"utc\": 1670986985.93415, \"riseset\": 1}, {\"utc\": 1671033296.516071, \"riseset\": 0}]}, {\"order\": 18, \"name\": \"Rigel\", \"objtype\": \"Star\", \"magnitude\": 0.18, \"ra\": 5.242684248012775, \"dec\": -8.20127821722603, \"distance\": 48877915.331813306, \"riseset\": [{\"utc\": 1670819130.279288, \"riseset\": 1}, {\"utc\": 1670861091.75726, \"riseset\": 0}, {\"utc\": 1670905294.379944, \"riseset\": 1}, {\"utc\": 1670947255.851357, \"riseset\": 0}, {\"utc\": 1670991458.480359, \"riseset\": 1}, {\"utc\": 1671033419.945335, \"riseset\": 0}]}, {\"order\": 19, \"name\": \"Capella\", \"objtype\": \"Star\", \"magnitude\": 0.08, \"ra\": 5.278751042652039, \"dec\": 45.99571707571148, \"distance\": 2668711.8218757343, \"riseset\": [{\"utc\": 1670813295.053083, \"riseset\": 1}, {\"utc\": 1670867255.970214, \"riseset\": 0}, {\"utc\": 1670899459.145894, \"riseset\": 1}, {\"utc\": 1670953420.083302, \"riseset\": 0}, {\"utc\": 1670985623.237135, \"riseset\": 1}, {\"utc\": 1671039584.194659, \"riseset\": 0}]}, {\"order\": 20, \"name\": \"Bellatrix\", \"objtype\": \"Star\", \"magnitude\": 1.64, \"ra\": 5.419231530012291, \"dec\": 6.350023874561499, \"distance\": 15369954.815125903, \"riseset\": [{\"utc\": 1670818517.722965, \"riseset\": 1}, {\"utc\": 1670862987.1644, \"riseset\": 0}, {\"utc\": 1670904681.823862, \"riseset\": 1}, {\"utc\": 1670949151.262642, \"riseset\": 0}, {\"utc\": 1670990845.924398, \"riseset\": 1}, {\"utc\": 1671035315.360401, \"riseset\": 0}]}, {\"order\": 21, \"name\": \"Elnath\", \"objtype\": \"Star\", \"magnitude\": 1.65, \"ra\": 5.438644632016123, \"dec\": 28.606688352645975, \"distance\": 8287054.318305132, \"riseset\": [{\"utc\": 1670816427.960251, \"riseset\": 1}, {\"utc\": 1670865242.289283, \"riseset\": 0}, {\"utc\": 1670902592.059619, \"riseset\": 1}, {\"utc\": 1670951406.393641, \"riseset\": 0}, {\"utc\": 1670988756.158062, \"riseset\": 1}, {\"utc\": 1671037570.497032, \"riseset\": 0}]}, {\"order\": 22, \"name\": \"Alnilam\", \"objtype\": \"Star\", \"magnitude\": 1.69, \"ra\": 5.6039416340059836, \"dec\": -1.2015120129711652, \"distance\": 84882635.42278716, \"riseset\": [{\"utc\": 1670819828.289624, \"riseset\": 1}, {\"utc\": 1670862994.965323, \"riseset\": 0}, {\"utc\": 1670905992.39201, \"riseset\": 1}, {\"utc\": 1670949159.062921, \"riseset\": 0}, {\"utc\": 1670992156.494276, \"riseset\": 1}, {\"utc\": 1671035323.160157, \"riseset\": 0}]}, {\"order\": 23, \"name\": \"Betelgeuse\", \"objtype\": \"Star\", \"magnitude\": 0.45, \"ra\": 5.919922988893645, \"dec\": 7.407441377276512, \"distance\": 27033394.38073597, \"riseset\": [{\"utc\": 1670820224.894434, \"riseset\": 1}, {\"utc\": 1670864876.338261, \"riseset\": 0}, {\"utc\": 1670906388.998469, \"riseset\": 1}, {\"utc\": 1670951040.43952, \"riseset\": 0}, {\"utc\": 1670992553.102223, \"riseset\": 1}, {\"utc\": 1671037204.540216, \"riseset\": 0}]}, {\"order\": 24, \"name\": \"Canopus\", \"objtype\": \"Star\", \"magnitude\": -0.62, \"ra\": 6.399821162352551, \"dec\": -52.694110910989764, \"distance\": 19776107.763794016, \"riseset\": [{\"utc\": 1670829135.635198, \"riseset\": 1}, {\"utc\": 1670859324.417258, \"riseset\": 0}, {\"utc\": 1670915299.758384, \"riseset\": 1}, {\"utc\": 1670945488.497113, \"riseset\": 0}, {\"utc\": 1671001463.882255, \"riseset\": 1}, {\"utc\": 1671031652.577854, \"riseset\": 0}]}, {\"order\": 25, \"name\": \"Sirius\", \"objtype\": \"Star\", \"magnitude\": -1.44, \"ra\": 6.7526123015886315, \"dec\": -16.7230205128171, \"distance\": 543932.2503493875, \"riseset\": [{\"utc\": 1670825315.916025, \"riseset\": 1}, {\"utc\": 1670865738.543562, \"riseset\": 0}, {\"utc\": 1670911480.026015, \"riseset\": 1}, {\"utc\": 1670951902.64293, \"riseset\": 0}, {\"utc\": 1670997644.135965, \"riseset\": 1}, {\"utc\": 1671038066.7425, \"riseset\": 0}]}, {\"order\": 26, \"name\": \"Adhara\", \"objtype\": \"Star\", \"magnitude\": 1.5, \"ra\": 6.977499159862259, \"dec\": -28.97061372609465, \"distance\": 27247662.12145044, \"riseset\": [{\"utc\": 1670827359.6464, \"riseset\": 1}, {\"utc\": 1670865294.92219, \"riseset\": 0}, {\"utc\": 1670913523.760011, \"riseset\": 1}, {\"utc\": 1670951459.020392, \"riseset\": 0}, {\"utc\": 1670999687.873823, \"riseset\": 1}, {\"utc\": 1671037623.118956, \"riseset\": 0}]}, {\"order\": 27, \"name\": \"Procyon\", \"objtype\": \"Star\", \"magnitude\": 0.4, \"ra\": 7.655049937931023, \"dec\": 5.218494197279465, \"distance\": 721381.4263628635, \"riseset\": [{\"utc\": 1670784744.510176, \"riseset\": 0}, {\"utc\": 1670826648.563232, \"riseset\": 1}, {\"utc\": 1670870908.618718, \"riseset\": 0}, {\"utc\": 1670912812.677407, \"riseset\": 1}, {\"utc\": 1670957072.727259, \"riseset\": 0}, {\"utc\": 1670998976.791098, \"riseset\": 1}]}, {\"order\": 28, \"name\": \"Pollux\", \"objtype\": \"Star\", \"magnitude\": 1.16, \"ra\": 7.755318533266682, \"dec\": 28.024722911080072, \"distance\": 2132155.553760951, \"riseset\": [{\"utc\": 1670787318.388551, \"riseset\": 0}, {\"utc\": 1670824818.627393, \"riseset\": 1}, {\"utc\": 1670873482.504857, \"riseset\": 0}, {\"utc\": 1670910982.743659, \"riseset\": 1}, {\"utc\": 1670959646.621244, \"riseset\": 0}, {\"utc\": 1670997146.859, \"riseset\": 1}]}, {\"order\": 29, \"name\": \"Avior\", \"objtype\": \"Star\", \"magnitude\": 1.86, \"ra\": 8.375749912877113, \"dec\": -59.505682813448715, \"distance\": 39973799.677611016, \"riseset\": [{\"utc\": 1670838421.776582, \"riseset\": 1}, {\"utc\": 1670864220.811742, \"riseset\": 0}, {\"utc\": 1670924585.928052, \"riseset\": 1}, {\"utc\": 1670950384.900328, \"riseset\": 0}, {\"utc\": 1671010750.079925, \"riseset\": 1}, {\"utc\": 1671036548.990402, \"riseset\": 0}]}, {\"order\": 30, \"name\": \"Suhail\", \"objtype\": \"Star\", \"magnitude\": 2.23, \"ra\": 9.133549511201654, \"dec\": -43.42894868024442, \"distance\": 36250405.23295598, \"riseset\": [{\"utc\": 1670784892.070309, \"riseset\": 0}, {\"utc\": 1670837072.461631, \"riseset\": 1}, {\"utc\": 1670871056.176598, \"riseset\": 0}, {\"utc\": 1670923236.592422, \"riseset\": 1}, {\"utc\": 1670957220.283651, \"riseset\": 0}, {\"utc\": 1671009400.723212, \"riseset\": 1}]}, {\"order\": 31, \"name\": \"Miaplacidus\", \"objtype\": \"Star\", \"magnitude\": 1.67, \"ra\": 9.220401866482367, \"dec\": -69.71186964641734, \"distance\": 7030157.199763405, \"riseset\": [{\"utc\": 1670935869.487489, \"riseset\": 1}, {\"utc\": 1670945139.865852, \"riseset\": 0}]}, {\"order\": 32, \"name\": \"Alphard\", \"objtype\": \"Star\", \"magnitude\": 1.99, \"ra\": 9.459973800668998, \"dec\": -8.65723691927722, \"distance\": 11210043.468656031, \"riseset\": [{\"utc\": 1670790019.056501, \"riseset\": 0}, {\"utc\": 1670834323.154757, \"riseset\": 1}, {\"utc\": 1670876183.168785, \"riseset\": 0}, {\"utc\": 1670920487.276938, \"riseset\": 1}, {\"utc\": 1670962347.281349, \"riseset\": 0}, {\"utc\": 1671006651.398958, \"riseset\": 1}]}, {\"order\": 33, \"name\": \"Regulus\", \"objtype\": \"Star\", \"magnitude\": 1.36, \"ra\": 10.139551843297214, \"dec\": 11.966513186561233, \"distance\": 4900565.269926243, \"riseset\": [{\"utc\": 1670794255.665789, \"riseset\": 0}, {\"utc\": 1670834978.051145, \"riseset\": 1}, {\"utc\": 1670880419.782256, \"riseset\": 0}, {\"utc\": 1670921142.176303, \"riseset\": 1}, {\"utc\": 1670966583.899046, \"riseset\": 0}, {\"utc\": 1671007306.300937, \"riseset\": 1}]}, {\"order\": 34, \"name\": \"Dubhe\", \"objtype\": \"Star\", \"magnitude\": 1.81, \"ra\": 11.062084697738126, \"dec\": 61.74597557901416, \"distance\": 7818983.955345028, \"riseset\": [{\"utc\": 1670806751.89127, \"riseset\": 0}, {\"utc\": 1670829128.29603, \"riseset\": 1}, {\"utc\": 1670892916.024796, \"riseset\": 0}, {\"utc\": 1670915292.465485, \"riseset\": 1}, {\"utc\": 1670979080.161621, \"riseset\": 0}, {\"utc\": 1671001456.631761, \"riseset\": 1}]}, {\"order\": 35, \"name\": \"Denebola\", \"objtype\": \"Star\", \"magnitude\": 2.14, \"ra\": 11.817402154804538, \"dec\": 14.57028725083551, \"distance\": 2287764.0806444697, \"riseset\": [{\"utc\": 1670800513.562322, \"riseset\": 0}, {\"utc\": 1670840762.510576, \"riseset\": 1}, {\"utc\": 1670886677.677865, \"riseset\": 0}, {\"utc\": 1670926926.638108, \"riseset\": 1}, {\"utc\": 1670972841.794211, \"riseset\": 0}, {\"utc\": 1671013090.765358, \"riseset\": 1}]}, {\"order\": 36, \"name\": \"Gienah\", \"objtype\": \"Star\", \"magnitude\": 2.58, \"ra\": 12.263277858121164, \"dec\": -17.539712811442552, \"distance\": 10427948.079518437, \"riseset\": [{\"utc\": 1670799282.064033, \"riseset\": 0}, {\"utc\": 1670845195.728614, \"riseset\": 1}, {\"utc\": 1670885446.178932, \"riseset\": 0}, {\"utc\": 1670931359.853651, \"riseset\": 1}, {\"utc\": 1670971610.294233, \"riseset\": 0}, {\"utc\": 1671017523.978608, \"riseset\": 1}]}, {\"order\": 37, \"name\": \"Acrux\", \"objtype\": \"Star\", \"magnitude\": 0.77, \"ra\": 12.443048436242346, \"dec\": -63.094070955760245, \"distance\": 20281692.33111025, \"riseset\": [{\"utc\": 1670790973.952388, \"riseset\": 0}, {\"utc\": 1670854806.05625, \"riseset\": 1}, {\"utc\": 1670877138.083822, \"riseset\": 0}, {\"utc\": 1670940970.206312, \"riseset\": 1}, {\"utc\": 1670963302.216061, \"riseset\": 0}, {\"utc\": 1671027134.354966, \"riseset\": 1}]}, {\"order\": 38, \"name\": \"Gacrux\", \"objtype\": \"Star\", \"magnitude\": 1.59, \"ra\": 12.519256669719653, \"dec\": -57.11005837838289, \"distance\": 5561197.743062481, \"riseset\": [{\"utc\": 1670793845.50012, \"riseset\": 0}, {\"utc\": 1670852480.873006, \"riseset\": 1}, {\"utc\": 1670880009.627088, \"riseset\": 0}, {\"utc\": 1670938645.013895, \"riseset\": 1}, {\"utc\": 1670966173.75466, \"riseset\": 0}, {\"utc\": 1671024809.153859, \"riseset\": 1}]}, {\"order\": 39, \"name\": \"Alioth\", \"objtype\": \"Star\", \"magnitude\": 1.76, \"ra\": 12.900314330567005, \"dec\": 55.95558953180894, \"distance\": 5118233.2973980205, \"riseset\": [{\"utc\": 1670810902.101307, \"riseset\": 0}, {\"utc\": 1670838128.853447, \"riseset\": 1}, {\"utc\": 1670897066.211257, \"riseset\": 0}, {\"utc\": 1670924293.015579, \"riseset\": 1}, {\"utc\": 1670983230.324184, \"riseset\": 0}, {\"utc\": 1671010457.176866, \"riseset\": 1}]}, {\"order\": 40, \"name\": \"Spica\", \"objtype\": \"Star\", \"magnitude\": 0.98, \"ra\": 13.419670352275162, \"dec\": -11.160162043390457, \"distance\": 16580772.755924655, \"riseset\": [{\"utc\": 1670804017.818672, \"riseset\": 0}, {\"utc\": 1670848766.395467, \"riseset\": 1}, {\"utc\": 1670890181.931116, \"riseset\": 0}, {\"utc\": 1670934930.517607, \"riseset\": 1}, {\"utc\": 1670976346.044043, \"riseset\": 0}, {\"utc\": 1671021094.639788, \"riseset\": 1}]}, {\"order\": 41, \"name\": \"Alkaid\", \"objtype\": \"Star\", \"magnitude\": 1.85, \"ra\": 13.791924745133231, \"dec\": 49.309891133317834, \"distance\": 6368163.277470349, \"riseset\": [{\"utc\": 1670812280.760013, \"riseset\": 0}, {\"utc\": 1670843141.102985, \"riseset\": 1}, {\"utc\": 1670898444.863486, \"riseset\": 0}, {\"utc\": 1670929305.249507, \"riseset\": 1}, {\"utc\": 1670984608.969372, \"riseset\": 0}, {\"utc\": 1671015469.396109, \"riseset\": 1}]}, {\"order\": 42, \"name\": \"Hadar\", \"objtype\": \"Star\", \"magnitude\": 0.61, \"ra\": 14.063201481174193, \"dec\": -60.36915934134917, \"distance\": 33214945.279892493, \"riseset\": [{\"utc\": 1670798167.817291, \"riseset\": 0}, {\"utc\": 1670859286.822612, \"riseset\": 1}, {\"utc\": 1670884331.953996, \"riseset\": 0}, {\"utc\": 1670945450.950707, \"riseset\": 1}, {\"utc\": 1670970496.090821, \"riseset\": 0}, {\"utc\": 1671031615.077595, \"riseset\": 1}]}, {\"order\": 43, \"name\": \"Menkent\", \"objtype\": \"Star\", \"magnitude\": 2.06, \"ra\": 14.110794102414376, \"dec\": -36.370333717416976, \"distance\": 3853976.947165868, \"riseset\": [{\"utc\": 1670803851.286162, \"riseset\": 0}, {\"utc\": 1670853914.227412, \"riseset\": 1}, {\"utc\": 1670890015.402388, \"riseset\": 0}, {\"utc\": 1670940078.349029, \"riseset\": 1}, {\"utc\": 1670976179.518896, \"riseset\": 0}, {\"utc\": 1671026242.470365, \"riseset\": 1}]}, {\"order\": 44, \"name\": \"Arcturus\", \"objtype\": \"Star\", \"magnitude\": -0.05, \"ra\": 14.260255594101814, \"dec\": 19.168654699668522, \"distance\": 2321495.3434902662, \"riseset\": [{\"utc\": 1670809716.583336, \"riseset\": 0}, {\"utc\": 1670849087.581333, \"riseset\": 1}, {\"utc\": 1670895880.689464, \"riseset\": 0}, {\"utc\": 1670935251.704358, \"riseset\": 1}, {\"utc\": 1670982044.796637, \"riseset\": 0}, {\"utc\": 1671021415.827625, \"riseset\": 1}]}, {\"order\": 45, \"name\": \"Rigil Kent.\", \"objtype\": \"Star\", \"magnitude\": -0.01, \"ra\": 14.656360057077677, \"dec\": -60.827287765966915, \"distance\": 277940.68776577257, \"riseset\": [{\"utc\": 1670800106.672717, \"riseset\": 0}, {\"utc\": 1670861621.917168, \"riseset\": 1}, {\"utc\": 1670886270.810267, \"riseset\": 0}, {\"utc\": 1670947786.038544, \"riseset\": 1}, {\"utc\": 1670972434.947736, \"riseset\": 0}, {\"utc\": 1671033950.158391, \"riseset\": 1}]}, {\"order\": 46, \"name\": \"Kochab\", \"objtype\": \"Star\", \"magnitude\": 2.07, \"ra\": 14.843948931677382, \"dec\": 74.1522420788043, \"distance\": 7997859.706338615, \"riseset\": []}, {\"order\": 47, \"name\": \"Zuben\\'ubi\", \"objtype\": \"Star\", \"magnitude\": 2.75, \"ra\": 14.847618780966714, \"dec\": -16.040837059762925, \"distance\": 4882008.056854277, \"riseset\": [{\"utc\": 1670808708.463759, \"riseset\": 0}, {\"utc\": 1670854336.373543, \"riseset\": 1}, {\"utc\": 1670894872.572462, \"riseset\": 0}, {\"utc\": 1670940500.48997, \"riseset\": 1}, {\"utc\": 1670981036.681647, \"riseset\": 0}, {\"utc\": 1671026664.606518, \"riseset\": 1}]}, {\"order\": 48, \"name\": \"Alphecca\", \"objtype\": \"Star\", \"magnitude\": 2.22, \"ra\": 15.577808792689677, \"dec\": 26.713285063572354, \"distance\": 4725425.673120793, \"riseset\": [{\"utc\": 1670815226.224423, \"riseset\": 0}, {\"utc\": 1670853025.635289, \"riseset\": 1}, {\"utc\": 1670901390.321579, \"riseset\": 0}, {\"utc\": 1670939189.753889, \"riseset\": 1}, {\"utc\": 1670987554.419942, \"riseset\": 0}, {\"utc\": 1671025353.873133, \"riseset\": 1}]}, {\"order\": 49, \"name\": \"Antares\", \"objtype\": \"Star\", \"magnitude\": 1.06, \"ra\": 16.489708361611598, \"dec\": -26.43117055635708, \"distance\": 38197187.30730202, \"riseset\": [{\"utc\": 1670813587.85238, \"riseset\": 0}, {\"utc\": 1670861263.724583, \"riseset\": 1}, {\"utc\": 1670899751.956617, \"riseset\": 0}, {\"utc\": 1670947427.831636, \"riseset\": 1}, {\"utc\": 1670985916.060974, \"riseset\": 0}, {\"utc\": 1671033591.938729, \"riseset\": 1}]}, {\"order\": 50, \"name\": \"Atria\", \"objtype\": \"Star\", \"magnitude\": 1.91, \"ra\": 16.810049339190414, \"dec\": -69.02692517997716, \"distance\": 26275772.178080324, \"riseset\": [{\"utc\": 1670789594.386787, \"riseset\": 1}, {\"utc\": 1670801515.61776, \"riseset\": 0}, {\"utc\": 1670875758.420133, \"riseset\": 1}, {\"utc\": 1670887679.819482, \"riseset\": 0}]}, {\"order\": 51, \"name\": \"Sabik\", \"objtype\": \"Star\", \"magnitude\": 2.43, \"ra\": 17.1725907006006, \"dec\": -15.723775987815271, \"distance\": 5320217.799193423, \"riseset\": [{\"utc\": 1670817093.296292, \"riseset\": 0}, {\"utc\": 1670862650.555644, \"riseset\": 1}, {\"utc\": 1670903257.393528, \"riseset\": 0}, {\"utc\": 1670948814.658473, \"riseset\": 1}, {\"utc\": 1670989421.490965, \"riseset\": 0}, {\"utc\": 1671034978.761744, \"riseset\": 1}]}, {\"order\": 52, \"name\": \"Shaula\", \"objtype\": \"Star\", \"magnitude\": 1.62, \"ra\": 17.559661191972573, \"dec\": -37.10381775537587, \"distance\": 44453622.9883033, \"riseset\": [{\"utc\": 1670816157.439207, \"riseset\": 0}, {\"utc\": 1670866394.533526, \"riseset\": 1}, {\"utc\": 1670902321.540547, \"riseset\": 0}, {\"utc\": 1670952558.63209, \"riseset\": 1}, {\"utc\": 1670988485.641766, \"riseset\": 0}, {\"utc\": 1671038722.730493, \"riseset\": 1}]}, {\"order\": 53, \"name\": \"Rasalhague\", \"objtype\": \"Star\", \"magnitude\": 2.08, \"ra\": 17.581898594004013, \"dec\": 12.559059493036601, \"distance\": 2953391.4949747734, \"riseset\": [{\"utc\": 1670821027.627557, \"riseset\": 0}, {\"utc\": 1670861625.194439, \"riseset\": 1}, {\"utc\": 1670907191.716585, \"riseset\": 0}, {\"utc\": 1670947789.296945, \"riseset\": 1}, {\"utc\": 1670993355.806298, \"riseset\": 0}, {\"utc\": 1671033953.400297, \"riseset\": 1}]}, {\"order\": 54, \"name\": \"Eltanin\", \"objtype\": \"Star\", \"magnitude\": 2.24, \"ra\": 17.942822278845817, \"dec\": 51.48960710506124, \"distance\": 9333249.404593961, \"riseset\": [{\"utc\": 1670827712.70572, \"riseset\": 0}, {\"utc\": 1670857468.99425, \"riseset\": 1}, {\"utc\": 1670913876.76393, \"riseset\": 0}, {\"utc\": 1670943633.108304, \"riseset\": 1}, {\"utc\": 1671000040.824152, \"riseset\": 0}, {\"utc\": 1671029797.22461, \"riseset\": 1}]}, {\"order\": 55, \"name\": \"Kaus Aust.\", \"objtype\": \"Star\", \"magnitude\": 1.79, \"ra\": 18.40239832592086, \"dec\": -34.38589262076626, \"distance\": 9146998.9928906, \"riseset\": [{\"utc\": 1670782891.41027, \"riseset\": 1}, {\"utc\": 1670819543.404105, \"riseset\": 0}, {\"utc\": 1670869055.503684, \"riseset\": 1}, {\"utc\": 1670905707.499731, \"riseset\": 0}, {\"utc\": 1670955219.597178, \"riseset\": 1}, {\"utc\": 1670991871.595077, \"riseset\": 0}]}, {\"order\": 56, \"name\": \"Vega\", \"objtype\": \"Star\", \"magnitude\": 0.03, \"ra\": 18.61529123071094, \"dec\": 38.78691711760422, \"distance\": 1599820.528505595, \"riseset\": [{\"utc\": 1670827678.660401, \"riseset\": 0}, {\"utc\": 1670862359.518921, \"riseset\": 1}, {\"utc\": 1670913842.730761, \"riseset\": 0}, {\"utc\": 1670948523.617967, \"riseset\": 1}, {\"utc\": 1671000006.802409, \"riseset\": 0}, {\"utc\": 1671034687.718663, \"riseset\": 1}]}, {\"order\": 57, \"name\": \"Nunki\", \"objtype\": \"Star\", \"magnitude\": 2.05, \"ra\": 18.920703537550924, \"dec\": -26.2976615663543, \"distance\": 14186026.096180918, \"riseset\": [{\"utc\": 1670783805.336352, \"riseset\": 1}, {\"utc\": 1670822338.96464, \"riseset\": 0}, {\"utc\": 1670869969.427674, \"riseset\": 1}, {\"utc\": 1670908503.055318, \"riseset\": 0}, {\"utc\": 1670956133.519318, \"riseset\": 1}, {\"utc\": 1670994667.145956, \"riseset\": 0}]}, {\"order\": 58, \"name\": \"Altair\", \"objtype\": \"Star\", \"magnitude\": 0.76, \"ra\": 19.846306089522436, \"dec\": 8.87168222441162, \"distance\": 1060815.3228744061, \"riseset\": [{\"utc\": 1670783917.108146, \"riseset\": 1}, {\"utc\": 1670828835.784561, \"riseset\": 0}, {\"utc\": 1670870081.195927, \"riseset\": 1}, {\"utc\": 1670914999.863974, \"riseset\": 0}, {\"utc\": 1670956245.284513, \"riseset\": 1}, {\"utc\": 1671001163.943749, \"riseset\": 0}]}, {\"order\": 59, \"name\": \"Peacock\", \"objtype\": \"Star\", \"magnitude\": 1.94, \"ra\": 20.42697434889589, \"dec\": -56.738806424097106, \"distance\": 11587911.122150872, \"riseset\": [{\"utc\": 1670794548.928491, \"riseset\": 1}, {\"utc\": 1670822456.545857, \"riseset\": 0}, {\"utc\": 1670880712.994587, \"riseset\": 1}, {\"utc\": 1670908620.635208, \"riseset\": 0}, {\"utc\": 1670966877.061246, \"riseset\": 1}, {\"utc\": 1670994784.723351, \"riseset\": 0}]}, {\"order\": 60, \"name\": \"Deneb\", \"objtype\": \"Star\", \"magnitude\": 1.25, \"ra\": 20.690176717765716, \"dec\": 45.283710106869414, \"distance\": 204222580.5663678, \"riseset\": [{\"utc\": 1670782533.694769, \"riseset\": 1}, {\"utc\": 1670836239.782865, \"riseset\": 0}, {\"utc\": 1670868697.7739, \"riseset\": 1}, {\"utc\": 1670922403.838781, \"riseset\": 0}, {\"utc\": 1670954861.854962, \"riseset\": 1}, {\"utc\": 1671008567.895141, \"riseset\": 0}]}, {\"order\": 61, \"name\": \"Enif\", \"objtype\": \"Star\", \"magnitude\": 2.38, \"ra\": 21.73628003653199, \"dec\": 9.876311730158516, \"distance\": 42528826.31210721, \"riseset\": [{\"utc\": 1670790610.351222, \"riseset\": 1}, {\"utc\": 1670835715.636724, \"riseset\": 0}, {\"utc\": 1670876774.430715, \"riseset\": 1}, {\"utc\": 1670921879.710624, \"riseset\": 0}, {\"utc\": 1670962938.510852, \"riseset\": 1}, {\"utc\": 1671008043.784525, \"riseset\": 0}]}, {\"order\": 62, \"name\": \"Al Na\\'ir\", \"objtype\": \"Star\", \"magnitude\": 1.73, \"ra\": 22.137112134176018, \"dec\": -46.9655930907061, \"distance\": 6413707.126109335, \"riseset\": [{\"utc\": 1670798230.083218, \"riseset\": 1}, {\"utc\": 1670831010.986321, \"riseset\": 0}, {\"utc\": 1670884394.154181, \"riseset\": 1}, {\"utc\": 1670917175.060544, \"riseset\": 0}, {\"utc\": 1670970558.225869, \"riseset\": 1}, {\"utc\": 1671003339.134003, \"riseset\": 0}]}, {\"order\": 63, \"name\": \"Fomalhaut\", \"objtype\": \"Star\", \"magnitude\": 1.17, \"ra\": 22.960951728691416, \"dec\": -29.625749656878376, \"distance\": 1585676.8103976685, \"riseset\": [{\"utc\": 1670798656.834272, \"riseset\": 1}, {\"utc\": 1670836478.337435, \"riseset\": 0}, {\"utc\": 1670884820.910748, \"riseset\": 1}, {\"utc\": 1670922642.411497, \"riseset\": 0}, {\"utc\": 1670970984.987908, \"riseset\": 1}, {\"utc\": 1671008806.485236, \"riseset\": 0}]}, {\"order\": 64, \"name\": \"Scheat\", \"objtype\": \"Star\", \"magnitude\": 2.44, \"ra\": 23.06295428302408, \"dec\": 28.086711658970955, \"distance\": 12600171.295276279, \"riseset\": [{\"utc\": 1670793565.669169, \"riseset\": 1}, {\"utc\": 1670842284.092747, \"riseset\": 0}, {\"utc\": 1670879729.742266, \"riseset\": 1}, {\"utc\": 1670928448.16178, \"riseset\": 0}, {\"utc\": 1670965893.816086, \"riseset\": 1}, {\"utc\": 1671014612.230571, \"riseset\": 0}]}, {\"order\": 65, \"name\": \"Markab\", \"objtype\": \"Star\", \"magnitude\": 2.49, \"ra\": 23.079339258200644, \"dec\": 15.20688282961835, \"distance\": 8829828.97667263, \"riseset\": [{\"utc\": 1670794945.832755, \"riseset\": 1}, {\"utc\": 1670841025.67664, \"riseset\": 0}, {\"utc\": 1670881109.908829, \"riseset\": 1}, {\"utc\": 1670927189.749012, \"riseset\": 0}, {\"utc\": 1670967273.985586, \"riseset\": 1}, {\"utc\": 1671013353.821223, \"riseset\": 0}]}]'"
      ]
     },
     "execution_count": 6,
     "metadata": {},
     "output_type": "execute_result"
    }
   ],
   "source": [
    "def createAngle(degrees, minutes, sign):\n",
    "    if (sign == None): \n",
    "        sign = 1\n",
    "    return (degrees + minutes/60.0) * sign\n",
    "\n",
    "lat = createAngle(19, 42.47, N)\n",
    "lon = createAngle(155, 58.73, W)\n",
    "days = 3\n",
    "\n",
    "getCelestialObjectData(lat, lon, utc_ts, days)"
   ]
  },
  {
   "cell_type": "code",
   "execution_count": null,
   "id": "b7ad13b5",
   "metadata": {},
   "outputs": [],
   "source": []
  },
  {
   "cell_type": "code",
   "execution_count": null,
   "id": "2746b01b",
   "metadata": {},
   "outputs": [],
   "source": []
  },
  {
   "cell_type": "code",
   "execution_count": null,
   "id": "4d00d046",
   "metadata": {},
   "outputs": [],
   "source": []
  },
  {
   "cell_type": "code",
   "execution_count": null,
   "id": "c356b599",
   "metadata": {},
   "outputs": [],
   "source": []
  }
 ],
 "metadata": {
  "kernelspec": {
   "display_name": "Python 3 (ipykernel)",
   "language": "python",
   "name": "python3"
  },
  "language_info": {
   "codemirror_mode": {
    "name": "ipython",
    "version": 3
   },
   "file_extension": ".py",
   "mimetype": "text/x-python",
   "name": "python",
   "nbconvert_exporter": "python",
   "pygments_lexer": "ipython3",
   "version": "3.10.8"
  }
 },
 "nbformat": 4,
 "nbformat_minor": 5
}
