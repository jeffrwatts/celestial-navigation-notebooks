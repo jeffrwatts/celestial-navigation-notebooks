{
 "cells": [
  {
   "cell_type": "code",
   "execution_count": 1,
   "id": "903d1156",
   "metadata": {},
   "outputs": [],
   "source": [
    "from math import *\n",
    "import numpy as np\n",
    "import pandas as pd\n",
    "import datetime as dt\n",
    "from pytz import timezone\n",
    "import json\n",
    "\n",
    "import skyfield\n",
    "from skyfield.api import load\n",
    "from skyfield.api import N, W, S, E, wgs84\n",
    "from skyfield.api import Star\n",
    "from skyfield.data import hipparcos\n",
    "from skyfield.almanac import find_discrete, risings_and_settings\n",
    "from skyfield.magnitudelib import planetary_magnitude\n",
    "from skyfield import almanac"
   ]
  },
  {
   "cell_type": "code",
   "execution_count": 2,
   "id": "d101f9d3",
   "metadata": {},
   "outputs": [],
   "source": [
    "ts = load.timescale()\n",
    "ephemeris = load('de421.bsp')\n",
    "\n",
    "sun = ephemeris['SUN']\n",
    "earth = ephemeris['EARTH']\n",
    "moon = ephemeris['MOON']\n",
    "\n",
    "with load.open(hipparcos.URL) as f:\n",
    "    stars_df = hipparcos.load_dataframe(f)\n",
    "\n",
    "planet_dictionary = {\"Venus\":\"VENUS\", \"Mars\":\"MARS\", \"Jupiter\":\"JUPITER BARYCENTER\", \"Saturn\":\"SATURN BARYCENTER\"}\n",
    "    \n",
    "star_dictionary = {\"Alpheratz\":677, \"Ankaa\":2081, \"Schedar\":3179, \"Diphda\":3419, \"Achernar\":7588, \"Hamal\":9884, \"Polaris\":11767, \"Acamar\":13847, \"Menkar\":14135, \"Mirfak\":15863, \"Aldebaran\":21421, \"Rigel\":24436, \"Capella\":24608, \"Bellatrix\":25336, \"Elnath\":25428, \"Alnilam\":26311, \"Betelgeuse\":27989, \"Canopus\":30438, \"Sirius\":32349, \"Adhara\":33579, \"Procyon\":37279, \"Pollux\":37826, \"Avior\":41037, \"Suhail\":44816, \"Miaplacidus\":45238, \"Alphard\":46390, \"Regulus\":49669, \"Dubhe\":54061, \"Denebola\":57632, \"Gienah\":59803, \"Acrux\":60718, \"Gacrux\":61084, \"Alioth\":62956, \"Spica\":65474, \"Alkaid\":67301, \"Hadar\":68702, \"Menkent\":68933, \"Arcturus\":69673, \"Rigil Kent.\":71683, \"Kochab\":72607, \"Zuben'ubi\":72622, \"Alphecca\":76267, \"Antares\":80763, \"Atria\":82273, \"Sabik\":84012, \"Shaula\":85927, \"Rasalhague\":86032, \"Eltanin\":87833, \"Kaus Aust.\":90185, \"Vega\":91262, \"Nunki\":92855, \"Altair\":97649, \"Peacock\":100751, \"Deneb\":102098, \"Enif\":107315, \"Al Na'ir\":109268, \"Fomalhaut\":113368, \"Scheat\":113881, \"Markab\":113963}"
   ]
  },
  {
   "cell_type": "code",
   "execution_count": 3,
   "id": "55715023",
   "metadata": {},
   "outputs": [],
   "source": [
    "def createAngle(degrees, minutes, sign):\n",
    "    if (sign == None): \n",
    "        sign = 1\n",
    "    return (degrees + minutes/60.0) * sign\n",
    "\n",
    "def decompose_int(value, places=0):\n",
    "    \"\"\"Decompose `value` into units, minutes, seconds, and second fractions.\n",
    "    This routine prepares a value for sexagesimal display, with its\n",
    "    seconds fraction expressed as an integer with `places` digits.  The\n",
    "    result is a tuple of five integers:\n",
    "    ``(sign [either +1 or -1], units, minutes, seconds, second_fractions)``\n",
    "    The integers are properly rounded per astronomical convention so\n",
    "    that, for example, given ``places=3`` the result tuple ``(1, 11, 22,\n",
    "    33, 444)`` means that the input was closer to 11u 22' 33.444\" than\n",
    "    to either 33.443\" or 33.445\" in its value.\n",
    "    \"\"\"\n",
    "    power = 10 ** places\n",
    "    n = int((power * 3600 * value + 0.5) // 1.0)\n",
    "    sign = np.sign(n)\n",
    "    n, fraction = divmod(abs(n), power)\n",
    "    n, seconds = divmod(n, 60)\n",
    "    n, minutes = divmod(n, 60)\n",
    "    return sign, n, minutes, seconds, fraction\n",
    "\n",
    "def decompose_float(value, places=0):\n",
    "    \"\"\"Decompose `value` into units, minutes, and seconds.\n",
    "    Note that this routine is not appropriate for displaying a value,\n",
    "    because rounding to the smallest digit of display is necessary\n",
    "    before showing a value to the user.  Use `_sexagesimalize_to_int()`\n",
    "    for data being displayed to the user.\n",
    "    This routine simply decomposes the floating point `value` into a\n",
    "    sign (+1.0 or -1.0), units, minutes, and seconds, returning the\n",
    "    result in a four-element tuple.\n",
    "    >>> _sexagesimalize_to_float(12.05125)\n",
    "    (1.0, 12.0, 3.0, 4.5)\n",
    "    >>> _sexagesimalize_to_float(-12.05125)\n",
    "    (-1.0, 12.0, 3.0, 4.5)\n",
    "    \"\"\"\n",
    "    sign = np.sign(value)\n",
    "    n = abs(value)\n",
    "    minutes, seconds = divmod(n * 3600.0, 60.0)\n",
    "    units, minutes = divmod(minutes, 60.0)\n",
    "    return sign, units, minutes, seconds"
   ]
  },
  {
   "cell_type": "code",
   "execution_count": 4,
   "id": "23756e4f",
   "metadata": {},
   "outputs": [],
   "source": [
    "class CelestialObject(json.JSONEncoder):\n",
    "    def __init__(self, name, objtype, magnitude, ra, dec, distance):\n",
    "        self.name = name\n",
    "        self.objtype = objtype\n",
    "        self.magnitude = magnitude\n",
    "        self.ra = ra\n",
    "        self.dec = dec\n",
    "        self.distance = distance"
   ]
  },
  {
   "cell_type": "code",
   "execution_count": 5,
   "id": "e9adc144",
   "metadata": {},
   "outputs": [],
   "source": [
    "def getCelestialObjectData(lat, lon, rise_start, rise_end):\n",
    "    objects = []\n",
    "    \n",
    "    # The location and time for which we'll fetch star data\n",
    "    earth_at = (earth + wgs84.latlon(lat, lon)).at(rise_start) \n",
    "    \n",
    "    # Sun\n",
    "    radec = earth_at.observe(sun).apparent().radec()\n",
    "    objects.append(CelestialObject(\"Sun\", \"Sun\", 0.0, radec[0].hours, radec[1].degrees, radec[2].au))\n",
    "    \n",
    "    # Moon\n",
    "    radec = earth_at.observe(moon).apparent().radec()\n",
    "    objects.append(CelestialObject(\"Moon\", \"Moon\", 0.0, radec[0].hours, radec[1].degrees, radec[2].au))\n",
    "    \n",
    "    # Planets\n",
    "    for planet in planet_dictionary:\n",
    "        astrometric = earth_at.observe(ephemeris[planet_dictionary[planet]])\n",
    "        radec = astrometric.apparent().radec()\n",
    "        magnitude = planetary_magnitude(astrometric)\n",
    "        objects.append(CelestialObject(planet, \"Planet\", float(magnitude), radec[0].hours, radec[1].degrees, radec[2].au))\n",
    "    \n",
    "    # Stars\n",
    "    for star_name in star_dictionary:\n",
    "        # Load dataframe separately to get magnitude\n",
    "        star_df = stars_df.loc[star_dictionary[star_name]]\n",
    "        \n",
    "        # Load star object\n",
    "        star = Star.from_dataframe(star_df)\n",
    "        \n",
    "        # Get apparent RA and dec for given lat/lon\n",
    "        radec = earth_at.observe(star).apparent().radec()        \n",
    "        objects.append(CelestialObject(star_name, \"Star\", star_df.magnitude, radec[0].hours, radec[1].degrees, radec[2].au))\n",
    "\n",
    "        \n",
    "    return objects"
   ]
  },
  {
   "cell_type": "code",
   "execution_count": 6,
   "id": "5cdd759c",
   "metadata": {},
   "outputs": [],
   "source": [
    "lat = createAngle(19, 42.47, N)\n",
    "lon = createAngle(155, 58.73, W)\n",
    "rise_start = ts.utc(2022, 12, 8)\n",
    "rise_end = None\n",
    "\n",
    "data = getCelestialObjectData(lat, lon, rise_start, rise_end)"
   ]
  },
  {
   "cell_type": "code",
   "execution_count": 7,
   "id": "1c010119",
   "metadata": {},
   "outputs": [],
   "source": [
    "json_string = json.dumps([ob.__dict__ for ob in data])"
   ]
  },
  {
   "cell_type": "code",
   "execution_count": 8,
   "id": "52e184f2",
   "metadata": {},
   "outputs": [
    {
     "data": {
      "text/plain": [
       "'[{\"name\": \"Sun\", \"objtype\": \"Sun\", \"magnitude\": 0.0, \"ra\": 16.95325160239414, \"dec\": -22.653099491524365, \"distance\": 0.9851023678339856}, {\"name\": \"Moon\", \"objtype\": \"Moon\", \"magnitude\": 0.0, \"ra\": 4.82126719969415, \"dec\": 24.47869455293052, \"distance\": 0.0026985608809493443}, {\"name\": \"Venus\", \"objtype\": \"Planet\", \"magnitude\": -3.9149340890596664, \"ra\": 17.77875814095296, \"dec\": -24.0522624720729, \"distance\": 1.6663381278160545}, {\"name\": \"Mars\", \"objtype\": \"Planet\", \"magnitude\": -1.9427681831904258, \"ra\": 4.95960945749927, \"dec\": 24.957004979534503, \"distance\": 0.5492552199303701}, {\"name\": \"Jupiter\", \"objtype\": \"Planet\", \"magnitude\": -2.523551465907854, \"ra\": 23.96491084605625, \"dec\": -1.7469493539453387, \"distance\": 4.631670635614837}, {\"name\": \"Saturn\", \"objtype\": \"Planet\", \"magnitude\": 0.8091679882863634, \"ra\": 21.52203999932492, \"dec\": -16.001012709575445, \"distance\": 10.225820528367898}, {\"name\": \"Alpheratz\", \"objtype\": \"Star\", \"magnitude\": 2.07, \"ra\": 0.13997365948719964, \"dec\": 29.09253637045919, \"distance\": 6138833.103052815}, {\"name\": \"Ankaa\", \"objtype\": \"Star\", \"magnitude\": 2.4, \"ra\": 0.43837563400672425, \"dec\": -42.31142114345635, \"distance\": 4894750.996652138}, {\"name\": \"Schedar\", \"objtype\": \"Star\", \"magnitude\": 2.24, \"ra\": 0.6754324988922562, \"dec\": 56.54177623127503, \"distance\": 14454435.78761825}, {\"name\": \"Diphda\", \"objtype\": \"Star\", \"magnitude\": 2.04, \"ra\": 0.7267577948006625, \"dec\": -17.987470899332287, \"distance\": 6059482.8873075815}, {\"name\": \"Achernar\", \"objtype\": \"Star\", \"magnitude\": 0.45, \"ra\": 1.6290638119922856, \"dec\": -57.24049199803875, \"distance\": 9094568.184382616}, {\"name\": \"Hamal\", \"objtype\": \"Star\", \"magnitude\": 2.01, \"ra\": 2.119936702601678, \"dec\": 23.463598707330284, \"distance\": 4168649.3297112836}, {\"name\": \"Polaris\", \"objtype\": \"Star\", \"magnitude\": 1.97, \"ra\": 2.5548042777940085, \"dec\": 89.26758326319023, \"distance\": 27283704.14168901}, {\"name\": \"Acamar\", \"objtype\": \"Star\", \"magnitude\": 2.88, \"ra\": 2.971410135563917, \"dec\": -40.30604502183941, \"distance\": 10201028.64232728}, {\"name\": \"Menkar\", \"objtype\": \"Star\", \"magnitude\": 2.54, \"ra\": 3.0383112754414805, \"dec\": 4.089994191118197, \"distance\": 13918002.305622276}, {\"name\": \"Mirfak\", \"objtype\": \"Star\", \"magnitude\": 1.79, \"ra\": 3.4059249257480255, \"dec\": 49.86325226459993, \"distance\": 37434628.258222856}, {\"name\": \"Aldebaran\", \"objtype\": \"Star\", \"magnitude\": 0.87, \"ra\": 4.599095779231069, \"dec\": 16.50884449917243, \"distance\": 4117882.9629630717}, {\"name\": \"Rigel\", \"objtype\": \"Star\", \"magnitude\": 0.18, \"ra\": 5.24268043519877, \"dec\": -8.20106905834292, \"distance\": 48877915.33080967}, {\"name\": \"Capella\", \"objtype\": \"Star\", \"magnitude\": 0.08, \"ra\": 5.278745299785781, \"dec\": 45.99549365004493, \"distance\": 2668711.826070138}, {\"name\": \"Bellatrix\", \"objtype\": \"Star\", \"magnitude\": 1.64, \"ra\": 5.419226343879522, \"dec\": 6.350119088311031, \"distance\": 15369954.818501033}, {\"name\": \"Elnath\", \"objtype\": \"Star\", \"magnitude\": 1.65, \"ra\": 5.438638589827094, \"dec\": 28.60660130594253, \"distance\": 8287054.323656679}, {\"name\": \"Alnilam\", \"objtype\": \"Star\", \"magnitude\": 1.69, \"ra\": 5.603935016432607, \"dec\": -1.201356773139988, \"distance\": 84882635.42860684}, {\"name\": \"Betelgeuse\", \"objtype\": \"Star\", \"magnitude\": 0.45, \"ra\": 5.919913855164786, \"dec\": 7.407529700287686, \"distance\": 27033394.392629754}, {\"name\": \"Canopus\", \"objtype\": \"Star\", \"magnitude\": -0.62, \"ra\": 6.399800328927445, \"dec\": -52.69369140570108, \"distance\": 19776107.77111057}, {\"name\": \"Sirius\", \"objtype\": \"Star\", \"magnitude\": -1.44, \"ra\": 6.752597038908862, \"dec\": -16.722761778202432, \"distance\": 543932.2726302599}, {\"name\": \"Adhara\", \"objtype\": \"Star\", \"magnitude\": 1.5, \"ra\": 6.977480107376251, \"dec\": -28.97030058638292, \"distance\": 27247662.14366636}, {\"name\": \"Procyon\", \"objtype\": \"Star\", \"magnitude\": 0.4, \"ra\": 7.655029351288485, \"dec\": 5.2186123082950235, \"distance\": 721381.4650285237}, {\"name\": \"Pollux\", \"objtype\": \"Star\", \"magnitude\": 1.16, \"ra\": 7.755294426644269, \"dec\": 28.024698996220877, \"distance\": 2132155.591373489}, {\"name\": \"Avior\", \"objtype\": \"Star\", \"magnitude\": 1.86, \"ra\": 8.37570123321943, \"dec\": -59.505377836993, \"distance\": 39973799.697032124}, {\"name\": \"Suhail\", \"objtype\": \"Star\", \"magnitude\": 2.23, \"ra\": 9.133511314045442, \"dec\": -43.428712275287324, \"distance\": 36250405.2694503}, {\"name\": \"Miaplacidus\", \"objtype\": \"Star\", \"magnitude\": 1.67, \"ra\": 9.22032116605437, \"dec\": -69.71164992669021, \"distance\": 7030157.214117061}, {\"name\": \"Alphard\", \"objtype\": \"Star\", \"magnitude\": 1.99, \"ra\": 9.45994475814887, \"dec\": -8.657069601162153, \"distance\": 11210043.525333779}, {\"name\": \"Regulus\", \"objtype\": \"Star\", \"magnitude\": 1.36, \"ra\": 10.13952115601813, \"dec\": 11.966640285743265, \"distance\": 4900565.332174765}, {\"name\": \"Dubhe\", \"objtype\": \"Star\", \"magnitude\": 1.81, \"ra\": 11.062020540341528, \"dec\": 61.7460754093382, \"distance\": 7818983.990995985}, {\"name\": \"Denebola\", \"objtype\": \"Star\", \"magnitude\": 2.14, \"ra\": 11.817371915420313, \"dec\": 14.570459792143081, \"distance\": 2287764.144475351}, {\"name\": \"Gienah\", \"objtype\": \"Star\", \"magnitude\": 2.58, \"ra\": 12.263248323222058, \"dec\": -17.539626200317898, \"distance\": 10427948.137924543}, {\"name\": \"Acrux\", \"objtype\": \"Star\", \"magnitude\": 0.77, \"ra\": 12.442987431634219, \"dec\": -63.09417809237705, \"distance\": 20281692.354340725}, {\"name\": \"Gacrux\", \"objtype\": \"Star\", \"magnitude\": 1.59, \"ra\": 12.519206286457893, \"dec\": -57.11014797243021, \"distance\": 5561197.771973317}, {\"name\": \"Alioth\", \"objtype\": \"Star\", \"magnitude\": 1.76, \"ra\": 12.90026806674872, \"dec\": 55.95587153525034, \"distance\": 5118233.335110407}, {\"name\": \"Spica\", \"objtype\": \"Star\", \"magnitude\": 0.98, \"ra\": 13.41964645958248, \"dec\": -11.160075327070516, \"distance\": 16580772.808871292}, {\"name\": \"Alkaid\", \"objtype\": \"Star\", \"magnitude\": 1.85, \"ra\": 13.791891888311678, \"dec\": 49.31023281347279, \"distance\": 6368163.315105232}, {\"name\": \"Hadar\", \"objtype\": \"Star\", \"magnitude\": 0.61, \"ra\": 14.063161376547912, \"dec\": -60.36938921677689, \"distance\": 33214945.299064938}, {\"name\": \"Menkent\", \"objtype\": \"Star\", \"magnitude\": 2.06, \"ra\": 14.110769888752303, \"dec\": -36.37042267646852, \"distance\": 3853976.982432651}, {\"name\": \"Arcturus\", \"objtype\": \"Star\", \"magnitude\": -0.05, \"ra\": 14.26023603267389, \"dec\": 19.168917076450896, \"distance\": 2321495.3887099214}, {\"name\": \"Rigil Kent.\", \"objtype\": \"Star\", \"magnitude\": -0.01, \"ra\": 14.656327226126244, \"dec\": -60.8275501747504, \"distance\": 277940.70296838717}, {\"name\": \"Kochab\", \"objtype\": \"Star\", \"magnitude\": 2.07, \"ra\": 14.84389498860126, \"dec\": 74.15266700083365, \"distance\": 7997859.72210387}, {\"name\": \"Zuben\\'ubi\", \"objtype\": \"Star\", \"magnitude\": 2.75, \"ra\": 14.847603444021654, \"dec\": -16.040807040037052, \"distance\": 4882008.092299837}, {\"name\": \"Alphecca\", \"objtype\": \"Star\", \"magnitude\": 2.22, \"ra\": 15.577798260082622, \"dec\": 26.713611399198115, \"distance\": 4725425.700353067}, {\"name\": \"Antares\", \"objtype\": \"Star\", \"magnitude\": 1.06, \"ra\": 16.489705602897352, \"dec\": -26.431248117812952, \"distance\": 38197187.31649984}, {\"name\": \"Atria\", \"objtype\": \"Star\", \"magnitude\": 1.91, \"ra\": 16.810050283732753, \"dec\": -69.02729988619376, \"distance\": 26275772.17568966}, {\"name\": \"Sabik\", \"objtype\": \"Star\", \"magnitude\": 2.43, \"ra\": 17.172594601667658, \"dec\": -15.723761002558389, \"distance\": 5320217.799069903}, {\"name\": \"Shaula\", \"objtype\": \"Star\", \"magnitude\": 1.62, \"ra\": 17.55966916229704, \"dec\": -37.10396968451518, \"distance\": 44453622.98086251}, {\"name\": \"Rasalhague\", \"objtype\": \"Star\", \"magnitude\": 2.08, \"ra\": 17.581905117195102, \"dec\": 12.559299745340141, \"distance\": 2953391.4907209296}, {\"name\": \"Eltanin\", \"objtype\": \"Star\", \"magnitude\": 2.24, \"ra\": 17.942837072075523, \"dec\": 51.49003916290217, \"distance\": 9333249.401592664}, {\"name\": \"Kaus Aust.\", \"objtype\": \"Star\", \"magnitude\": 1.79, \"ra\": 18.402413588808034, \"dec\": -34.386005870938966, \"distance\": 9146998.973874515}, {\"name\": \"Vega\", \"objtype\": \"Star\", \"magnitude\": 0.03, \"ra\": 18.615309190672743, \"dec\": 38.787284266726495, \"distance\": 1599820.5141971267}, {\"name\": \"Nunki\", \"objtype\": \"Star\", \"magnitude\": 2.05, \"ra\": 18.920721626054696, \"dec\": -26.29770179350668, \"distance\": 14186026.06905723}, {\"name\": \"Altair\", \"objtype\": \"Star\", \"magnitude\": 0.76, \"ra\": 19.846328061989187, \"dec\": 8.87187456918287, \"distance\": 1060815.283264182}, {\"name\": \"Peacock\", \"objtype\": \"Star\", \"magnitude\": 1.94, \"ra\": 20.427019786476343, \"dec\": -56.73894613782344, \"distance\": 11587911.091165487}, {\"name\": \"Deneb\", \"objtype\": \"Star\", \"magnitude\": 1.25, \"ra\": 20.690213797824715, \"dec\": 45.28398091209984, \"distance\": 204222580.53431082}, {\"name\": \"Enif\", \"objtype\": \"Star\", \"magnitude\": 2.38, \"ra\": 21.73630985115473, \"dec\": 9.87647636455005, \"distance\": 42528826.25378557}, {\"name\": \"Al Na\\'ir\", \"objtype\": \"Star\", \"magnitude\": 1.73, \"ra\": 22.137156142498036, \"dec\": -46.96554839053138, \"distance\": 6413707.079482736}, {\"name\": \"Fomalhaut\", \"objtype\": \"Star\", \"magnitude\": 1.17, \"ra\": 22.960986667855295, \"dec\": -29.625611951874852, \"distance\": 1585676.7511501973}, {\"name\": \"Scheat\", \"objtype\": \"Star\", \"magnitude\": 2.44, \"ra\": 23.062988697445277, \"dec\": 28.086823526481567, \"distance\": 12600171.240356166}, {\"name\": \"Markab\", \"objtype\": \"Star\", \"magnitude\": 2.49, \"ra\": 23.07937073463817, \"dec\": 15.207014115803602, \"distance\": 8829828.915214581}]'"
      ]
     },
     "execution_count": 8,
     "metadata": {},
     "output_type": "execute_result"
    }
   ],
   "source": [
    "json_string"
   ]
  },
  {
   "cell_type": "code",
   "execution_count": null,
   "id": "697a5add",
   "metadata": {},
   "outputs": [],
   "source": []
  }
 ],
 "metadata": {
  "kernelspec": {
   "display_name": "Python 3 (ipykernel)",
   "language": "python",
   "name": "python3"
  },
  "language_info": {
   "codemirror_mode": {
    "name": "ipython",
    "version": 3
   },
   "file_extension": ".py",
   "mimetype": "text/x-python",
   "name": "python",
   "nbconvert_exporter": "python",
   "pygments_lexer": "ipython3",
   "version": "3.10.8"
  }
 },
 "nbformat": 4,
 "nbformat_minor": 5
}
