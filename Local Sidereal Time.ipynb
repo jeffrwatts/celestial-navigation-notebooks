{
 "cells": [
  {
   "cell_type": "code",
   "execution_count": 1,
   "id": "41c84ece",
   "metadata": {},
   "outputs": [],
   "source": [
    "from math import *\n",
    "import numpy as np\n",
    "import pandas as pd\n",
    "import datetime as dt\n",
    "from datetime import timedelta\n",
    "from pytz import timezone\n",
    "import json\n",
    "\n",
    "import skyfield\n",
    "from skyfield.api import load\n",
    "from skyfield.api import N, W, S, E, wgs84\n",
    "from skyfield.api import Star\n",
    "from skyfield.data import hipparcos\n",
    "from skyfield.almanac import find_discrete, risings_and_settings\n",
    "from skyfield.magnitudelib import planetary_magnitude\n",
    "from skyfield import almanac"
   ]
  },
  {
   "cell_type": "code",
   "execution_count": 2,
   "id": "b7a150e7",
   "metadata": {},
   "outputs": [],
   "source": [
    "ts = load.timescale()\n",
    "eph = load('de421.bsp')\n",
    "\n",
    "sun = eph['SUN']\n",
    "earth = eph['EARTH']\n",
    "moon = eph['MOON']\n",
    "\n",
    "with load.open(hipparcos.URL) as f:\n",
    "    stars_df = hipparcos.load_dataframe(f)\n",
    "\n",
    "planet_dictionary = {\"Venus\":\"VENUS\", \"Mars\":\"MARS\", \"Jupiter\":\"JUPITER BARYCENTER\", \"Saturn\":\"SATURN BARYCENTER\"}\n",
    "    \n",
    "star_dictionary = {\"Alpheratz\":677, \"Ankaa\":2081, \"Schedar\":3179, \"Diphda\":3419, \"Achernar\":7588, \"Hamal\":9884, \"Polaris\":11767, \"Acamar\":13847, \"Menkar\":14135, \"Mirfak\":15863, \"Aldebaran\":21421, \"Rigel\":24436, \"Capella\":24608, \"Bellatrix\":25336, \"Elnath\":25428, \"Alnilam\":26311, \"Betelgeuse\":27989, \"Canopus\":30438, \"Sirius\":32349, \"Adhara\":33579, \"Procyon\":37279, \"Pollux\":37826, \"Avior\":41037, \"Suhail\":44816, \"Miaplacidus\":45238, \"Alphard\":46390, \"Regulus\":49669, \"Dubhe\":54061, \"Denebola\":57632, \"Gienah\":59803, \"Acrux\":60718, \"Gacrux\":61084, \"Alioth\":62956, \"Spica\":65474, \"Alkaid\":67301, \"Hadar\":68702, \"Menkent\":68933, \"Arcturus\":69673, \"Rigil Kent.\":71683, \"Kochab\":72607, \"Zuben'ubi\":72622, \"Alphecca\":76267, \"Antares\":80763, \"Atria\":82273, \"Sabik\":84012, \"Shaula\":85927, \"Rasalhague\":86032, \"Eltanin\":87833, \"Kaus Aust.\":90185, \"Vega\":91262, \"Nunki\":92855, \"Altair\":97649, \"Peacock\":100751, \"Deneb\":102098, \"Enif\":107315, \"Al Na'ir\":109268, \"Fomalhaut\":113368, \"Scheat\":113881, \"Markab\":113963}"
   ]
  },
  {
   "cell_type": "code",
   "execution_count": 14,
   "id": "089d5555",
   "metadata": {},
   "outputs": [],
   "source": [
    "def toDegreesAndMinutes(angle):\n",
    "    sign = 1\n",
    "    if (angle < 0): sign = -1\n",
    "    angle = angle*sign\n",
    "    degrees = floor(angle)\n",
    "    minutes = normal_round((angle - degrees) * 60.0, 2)\n",
    "    \n",
    "    return degrees*sign, minutes\n",
    "\n",
    "\n",
    "def toHoursMinutesSeconds(value):\n",
    "    sign = 1\n",
    "    if (value < 0): sign = -1\n",
    "    value = abs(value)\n",
    "    hours = floor(value)\n",
    "    value = (value - hours)*60.0\n",
    "    minutes = floor(value)\n",
    "    seconds = (value - minutes)*60.0\n",
    "    return sign, hours, minutes, seconds\n",
    "\n",
    "def fromHoursMinutesSeconds(hours, minutes, seconds):\n",
    "    value = hours * 3600.0\n",
    "    value += minutes*60.0\n",
    "    value += seconds\n",
    "    return value\n",
    "\n",
    "def calculateJulianDate(year, month, day):\n",
    "    if (month <= 2):\n",
    "        month+=12\n",
    "        year-=1\n",
    "        \n",
    "    a = int(year/100.0)\n",
    "    b = 2 - a + int(a/4)\n",
    "        \n",
    "    return int(365.25*(year+4716)) + int(30.6001*(month+1)) + day + b - 1524.5\n",
    "\n",
    "def calculateGMST(year, month, day, hours, minutes, seconds):\n",
    "    jd = calculateJulianDate(year, month, day)\n",
    "\n",
    "    t = (jd - 2451545.0) / 36525\n",
    "    \n",
    "    gmst_seconds = fromHoursMinutesSeconds(6, 41, 50.54841) \n",
    "    \n",
    "    gmst_seconds += 8640184.812866*t + 0.093104*pow(t, 2) + 0.0000062*pow(t, 3) \n",
    "    \n",
    "    gmst_seconds += fromHoursMinutesSeconds(hours, minutes, seconds) * 1.00273790935\n",
    "    \n",
    "    while (gmst_seconds < 0):\n",
    "        gmst_seconds += 86400\n",
    "      \n",
    "    while (gmst_seconds >= 86400):\n",
    "        gmst_seconds -= 86400\n",
    "    \n",
    "    return gmst_seconds / 3600.0\n"
   ]
  },
  {
   "cell_type": "code",
   "execution_count": 15,
   "id": "b0c07bfd",
   "metadata": {},
   "outputs": [
    {
     "data": {
      "text/plain": [
       "(1, 8, 34, 57.089592405710334)"
      ]
     },
     "execution_count": 15,
     "metadata": {},
     "output_type": "execute_result"
    }
   ],
   "source": [
    "gmst = calculateGMST(1987, 4, 10, 19, 21, 0)\n",
    "toHoursMinutesSeconds(gmst)"
   ]
  },
  {
   "cell_type": "code",
   "execution_count": null,
   "id": "44a08674",
   "metadata": {},
   "outputs": [],
   "source": []
  }
 ],
 "metadata": {
  "kernelspec": {
   "display_name": "Python 3 (ipykernel)",
   "language": "python",
   "name": "python3"
  },
  "language_info": {
   "codemirror_mode": {
    "name": "ipython",
    "version": 3
   },
   "file_extension": ".py",
   "mimetype": "text/x-python",
   "name": "python",
   "nbconvert_exporter": "python",
   "pygments_lexer": "ipython3",
   "version": "3.10.8"
  }
 },
 "nbformat": 4,
 "nbformat_minor": 5
}
